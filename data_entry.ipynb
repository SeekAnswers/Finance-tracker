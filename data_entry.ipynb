{
 "cells": [
  {
   "cell_type": "markdown",
   "metadata": {},
   "source": [
    "The purpose of this file is for collection of data from the user, we put the functions related to this in this file"
   ]
  },
  {
   "cell_type": "markdown",
   "metadata": {},
   "source": [
    "So, we would firstly import needed classes, modules etc"
   ]
  },
  {
   "cell_type": "code",
   "execution_count": null,
   "metadata": {},
   "outputs": [],
   "source": [
    "from datetime import datetime\n"
   ]
  },
  {
   "cell_type": "markdown",
   "metadata": {},
   "source": [
    "Writing the functions"
   ]
  },
  {
   "cell_type": "code",
   "execution_count": 1,
   "metadata": {},
   "outputs": [],
   "source": [
    "#We get the date\n",
    "\n",
    "date_format = '%d-%m-%Y' #Put this back up here so we can use just date format instead of retyping '%d-%m-%Y'\n",
    "CATEGORIES = {'I': 'Income', 'E': 'Expense'}\n",
    "\n",
    "def get_date(prompt, allow_default = False):\n",
    "    date_str = input(prompt) \n",
    "    if allow_default and not date_str:\n",
    "        return datetime.today().strftime(date_format) \n",
    "    \n",
    "    try:\n",
    "        valid_date = datetime.strptime(date_str, date_format)\n",
    "        return valid_date.strftime(date_format)\n",
    "    except ValueError:\n",
    "        print('invalid date format. Please enter the date in dd-mm-yyyy format')\n",
    "        return get_date(prompt, allow_default)\n",
    "\n",
    "#We get the amount\n",
    "def get_amount():\n",
    "    try:\n",
    "        amount = float(input('Enter the amount: '))\n",
    "        if amount <= 0:\n",
    "            raise ValueError('Amount must be a non-negative non-zero value.')\n",
    "        return amount\n",
    "    except ValueError as e:\n",
    "        print(e)\n",
    "        return get_amount()\n",
    "\n",
    "\n",
    "#We get the category\n",
    "def get_category():\n",
    "    category = input(\"Enter the category('I' for Income or 'E' for Expense): \").upper()\n",
    "    if category in CATEGORIES:  \n",
    "        return CATEGORIES[category]\n",
    "    \n",
    "    print(\"Invalid category. Please enter 'I' for income or 'E' for expense\")\n",
    "    return get_category()\n",
    "\n",
    "#We get the description\n",
    "def get_description():\n",
    "    return input(\"Enter a description (optional): \")\n",
    "\n",
    "\n"
   ]
  }
 ],
 "metadata": {
  "kernelspec": {
   "display_name": "Python 3",
   "language": "python",
   "name": "python3"
  },
  "language_info": {
   "codemirror_mode": {
    "name": "ipython",
    "version": 3
   },
   "file_extension": ".py",
   "mimetype": "text/x-python",
   "name": "python",
   "nbconvert_exporter": "python",
   "pygments_lexer": "ipython3",
   "version": "3.12.3"
  }
 },
 "nbformat": 4,
 "nbformat_minor": 2
}
